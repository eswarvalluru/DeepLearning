{
  "nbformat": 4,
  "nbformat_minor": 0,
  "metadata": {
    "colab": {
      "name": "imageclassification.ipynb",
      "provenance": []
    },
    "kernelspec": {
      "name": "python3",
      "display_name": "Python 3"
    },
    "accelerator": "GPU"
  },
  "cells": [
    {
      "cell_type": "markdown",
      "metadata": {
        "id": "OfI1eOEvnr2f",
        "colab_type": "text"
      },
      "source": [
        "**From uper Menu choose:**\n",
        "---\n",
        "Runtime --> Change runtime type:\n",
        "---\n",
        "change Hardare accelerator to (gpu)"
      ]
    },
    {
      "cell_type": "code",
      "metadata": {
        "id": "Ry7NRUf0llQ8",
        "colab_type": "code",
        "colab": {
          "base_uri": "https://localhost:8080/",
          "height": 102
        },
        "outputId": "dcbd5a8b-5c71-418e-a6df-4dc6eb4ab04d"
      },
      "source": [
        "%tensorflow_version 1.15\n",
        "import tensorflow as tf\n",
        "from keras import Sequential\n",
        "from keras.datasets import mnist\n",
        "import matplotlib.pyplot as plt\n",
        "import numpy as np\n",
        "from keras.layers import Dense\n",
        "from keras.utils import to_categorical"
      ],
      "execution_count": 135,
      "outputs": [
        {
          "output_type": "stream",
          "text": [
            "`%tensorflow_version` only switches the major version: 1.x or 2.x.\n",
            "You set: `1.15`. This will be interpreted as: `1.x`.\n",
            "\n",
            "\n",
            "TensorFlow is already loaded. Please restart the runtime to change versions.\n"
          ],
          "name": "stdout"
        }
      ]
    },
    {
      "cell_type": "code",
      "metadata": {
        "id": "XReLyY3jlr-R",
        "colab_type": "code",
        "colab": {}
      },
      "source": [
        "(train_images,train_labels),(test_images, test_labels) = mnist.load_data()"
      ],
      "execution_count": 0,
      "outputs": []
    },
    {
      "cell_type": "code",
      "metadata": {
        "id": "RrEOE2a_luF1",
        "colab_type": "code",
        "colab": {
          "base_uri": "https://localhost:8080/",
          "height": 34
        },
        "outputId": "299ae856-1840-42de-f9b9-d821542e54ae"
      },
      "source": [
        "print(train_images.shape[1:])"
      ],
      "execution_count": 137,
      "outputs": [
        {
          "output_type": "stream",
          "text": [
            "(28, 28)\n"
          ],
          "name": "stdout"
        }
      ]
    },
    {
      "cell_type": "markdown",
      "metadata": {
        "id": "oi1noKXWl0E4",
        "colab_type": "text"
      },
      "source": [
        "#process the data\n",
        "#1. convert each image of shape 28*28 to 784 dimensional which will be fed to the network as a single feature"
      ]
    },
    {
      "cell_type": "code",
      "metadata": {
        "id": "3KcvF2qFlwhr",
        "colab_type": "code",
        "outputId": "c195625e-6518-423d-88de-ecdd2aa7f706",
        "colab": {
          "base_uri": "https://localhost:8080/",
          "height": 34
        }
      },
      "source": [
        "dimData = np.prod(train_images.shape[1:])\n",
        "print(dimData)\n",
        "train_data = train_images.reshape(train_images.shape[0],dimData)\n",
        "test_data = test_images.reshape(test_images.shape[0],dimData)"
      ],
      "execution_count": 138,
      "outputs": [
        {
          "output_type": "stream",
          "text": [
            "784\n"
          ],
          "name": "stdout"
        }
      ]
    },
    {
      "cell_type": "markdown",
      "metadata": {
        "id": "CI3BKhj0l3fd",
        "colab_type": "text"
      },
      "source": [
        "#convert data to float and scale values between 0 and 1"
      ]
    },
    {
      "cell_type": "code",
      "metadata": {
        "id": "G_XcNfVfl1jH",
        "colab_type": "code",
        "colab": {}
      },
      "source": [
        "train_data = train_data.astype('float')\n",
        "test_data = test_data.astype('float')\n",
        "train_data1 = train_data.astype('float')\n",
        "test_data1 = test_data.astype('float')"
      ],
      "execution_count": 0,
      "outputs": []
    },
    {
      "cell_type": "markdown",
      "metadata": {
        "id": "ODdo3u8Ql8c8",
        "colab_type": "text"
      },
      "source": [
        "#scale data"
      ]
    },
    {
      "cell_type": "code",
      "metadata": {
        "id": "nky9C9FMl7BU",
        "colab_type": "code",
        "colab": {}
      },
      "source": [
        "train_data /=255.0\n",
        "test_data /=255.0"
      ],
      "execution_count": 0,
      "outputs": []
    },
    {
      "cell_type": "markdown",
      "metadata": {
        "id": "PVc9dRURl_oo",
        "colab_type": "text"
      },
      "source": [
        "#change the labels frominteger to one-hot encoding. to_categorical is doing the same thing as LabelEncoder()"
      ]
    },
    {
      "cell_type": "code",
      "metadata": {
        "id": "iGTKxNyYl-nE",
        "colab_type": "code",
        "colab": {}
      },
      "source": [
        "train_labels_one_hot = to_categorical(train_labels)\n",
        "test_labels_one_hot = to_categorical(test_labels)"
      ],
      "execution_count": 0,
      "outputs": []
    },
    {
      "cell_type": "markdown",
      "metadata": {
        "id": "1YFoN0z6mEbR",
        "colab_type": "text"
      },
      "source": [
        "#creating network"
      ]
    },
    {
      "cell_type": "code",
      "metadata": {
        "id": "9ui43p57mCgk",
        "colab_type": "code",
        "colab": {}
      },
      "source": [
        "model = Sequential()\n",
        "model.add(Dense(512, activation='relu', input_shape=(dimData,)))\n",
        "model.add(Dense(512, activation='relu'))\n",
        "model.add(Dense(10, activation='softmax'))"
      ],
      "execution_count": 0,
      "outputs": []
    },
    {
      "cell_type": "markdown",
      "metadata": {
        "id": "538_9WbGmp5a",
        "colab_type": "text"
      },
      "source": [
        "# Compile model"
      ]
    },
    {
      "cell_type": "code",
      "metadata": {
        "id": "ck4tEWPMmG0j",
        "colab_type": "code",
        "colab": {}
      },
      "source": [
        "model.compile(optimizer='rmsprop', loss='categorical_crossentropy', metrics=['accuracy'])"
      ],
      "execution_count": 0,
      "outputs": []
    },
    {
      "cell_type": "code",
      "metadata": {
        "id": "rsNP_elemr_i",
        "colab_type": "code",
        "colab": {
          "base_uri": "https://localhost:8080/",
          "height": 374
        },
        "outputId": "ee646969-72de-4000-85c7-51bae6caa64d"
      },
      "source": [
        "history = model.fit(train_data, train_labels_one_hot, batch_size=256, epochs=10, verbose=1,\n",
        "                   validation_data=(test_data, test_labels_one_hot))\n"
      ],
      "execution_count": 144,
      "outputs": [
        {
          "output_type": "stream",
          "text": [
            "Train on 60000 samples, validate on 10000 samples\n",
            "Epoch 1/10\n",
            "60000/60000 [==============================] - 2s 36us/step - loss: 0.2721 - acc: 0.9157 - val_loss: 0.1933 - val_acc: 0.9365\n",
            "Epoch 2/10\n",
            "60000/60000 [==============================] - 1s 20us/step - loss: 0.0947 - acc: 0.9710 - val_loss: 0.0924 - val_acc: 0.9706\n",
            "Epoch 3/10\n",
            "60000/60000 [==============================] - 1s 19us/step - loss: 0.0590 - acc: 0.9816 - val_loss: 0.0723 - val_acc: 0.9777\n",
            "Epoch 4/10\n",
            "60000/60000 [==============================] - 1s 19us/step - loss: 0.0414 - acc: 0.9867 - val_loss: 0.0683 - val_acc: 0.9797\n",
            "Epoch 5/10\n",
            "60000/60000 [==============================] - 1s 20us/step - loss: 0.0298 - acc: 0.9906 - val_loss: 0.0746 - val_acc: 0.9787\n",
            "Epoch 6/10\n",
            "60000/60000 [==============================] - 1s 19us/step - loss: 0.0216 - acc: 0.9931 - val_loss: 0.0696 - val_acc: 0.9811\n",
            "Epoch 7/10\n",
            "60000/60000 [==============================] - 1s 20us/step - loss: 0.0168 - acc: 0.9944 - val_loss: 0.0694 - val_acc: 0.9838\n",
            "Epoch 8/10\n",
            "60000/60000 [==============================] - 1s 20us/step - loss: 0.0130 - acc: 0.9956 - val_loss: 0.0938 - val_acc: 0.9788\n",
            "Epoch 9/10\n",
            "60000/60000 [==============================] - 1s 20us/step - loss: 0.0121 - acc: 0.9962 - val_loss: 0.0952 - val_acc: 0.9804\n",
            "Epoch 10/10\n",
            "60000/60000 [==============================] - 1s 20us/step - loss: 0.0092 - acc: 0.9970 - val_loss: 0.0925 - val_acc: 0.9819\n"
          ],
          "name": "stdout"
        }
      ]
    },
    {
      "cell_type": "code",
      "metadata": {
        "id": "Ld87-pHSnODK",
        "colab_type": "code",
        "colab": {
          "base_uri": "https://localhost:8080/",
          "height": 34
        },
        "outputId": "13ca361b-d54e-4766-d655-220d9aee3a0c"
      },
      "source": [
        "print(history.history.keys())"
      ],
      "execution_count": 145,
      "outputs": [
        {
          "output_type": "stream",
          "text": [
            "dict_keys(['val_loss', 'val_acc', 'loss', 'acc'])\n"
          ],
          "name": "stdout"
        }
      ]
    },
    {
      "cell_type": "code",
      "metadata": {
        "id": "C3ldGa46-bQs",
        "colab_type": "code",
        "colab": {
          "base_uri": "https://localhost:8080/",
          "height": 295
        },
        "outputId": "f4a7ba0b-9c73-4c4c-a8a3-4ebe1e36df25"
      },
      "source": [
        "#import matplotlib.pyplot as plt\n",
        "plt.plot(history.history['acc'])\n",
        "plt.plot(history.history['val_acc'])\n",
        "plt.title('model accuracy')\n",
        "plt.ylabel('accuracy')\n",
        "plt.xlabel('epoch')\n",
        "plt.legend(['accuray', 'validation accuracy'], loc='upper left')\n",
        "plt.show()"
      ],
      "execution_count": 146,
      "outputs": [
        {
          "output_type": "display_data",
          "data": {
            "image/png": "[encoded data removed]",
            "text/plain": [
              "<Figure size 432x288 with 1 Axes>"
            ]
          },
          "metadata": {
            "tags": []
          }
        }
      ]
    },
    {
      "cell_type": "code",
      "metadata": {
        "id": "f0KOouKzBlMf",
        "colab_type": "code",
        "colab": {
          "base_uri": "https://localhost:8080/",
          "height": 295
        },
        "outputId": "45eac3e9-1a11-42e0-83de-bdaf78314a93"
      },
      "source": [
        "#import matplotlib.pyplot as plt\n",
        "plt.plot(history.history['loss'])\n",
        "plt.plot(history.history['val_loss'])\n",
        "plt.title('model loss')\n",
        "plt.ylabel('loss')\n",
        "plt.xlabel('epoch')\n",
        "plt.legend(['loss', 'validation loss'], loc='upper left')\n",
        "plt.show()"
      ],
      "execution_count": 147,
      "outputs": [
        {
          "output_type": "display_data",
          "data": {
            "image/png": "[encoded data removed]",
            "text/plain": [
              "<Figure size 432x288 with 1 Axes>"
            ]
          },
          "metadata": {
            "tags": []
          }
        }
      ]
    },
    {
      "cell_type": "code",
      "metadata": {
        "id": "l9NHHn4p_-R_",
        "colab_type": "code",
        "colab": {
          "base_uri": "https://localhost:8080/",
          "height": 281
        },
        "outputId": "3a4d6bd0-c6a4-44cd-ef52-04c98cb06282"
      },
      "source": [
        "plt.imshow(test_images[4,:,:],cmap='gray')\n",
        "plt.title('Ground Truth : {}'.format(test_labels[4]))\n",
        "plt.show()"
      ],
      "execution_count": 148,
      "outputs": [
        {
          "output_type": "display_data",
          "data": {
            "image/png": "[encoded data removed]",
            "text/plain": [
              "<Figure size 432x288 with 1 Axes>"
            ]
          },
          "metadata": {
            "tags": []
          }
        }
      ]
    },
    {
      "cell_type": "code",
      "metadata": {
        "id": "yUK5nafxBHl1",
        "colab_type": "code",
        "colab": {
          "base_uri": "https://localhost:8080/",
          "height": 34
        },
        "outputId": "11d558f2-241e-4540-f335-745bcb80b04a"
      },
      "source": [
        "x=model.predict_classes(test_data[[4],:])\n",
        "print(test_labels[x])"
      ],
      "execution_count": 149,
      "outputs": [
        {
          "output_type": "stream",
          "text": [
            "[4]\n"
          ],
          "name": "stdout"
        }
      ]
    },
    {
      "cell_type": "code",
      "metadata": {
        "id": "UuZa1otkYCAL",
        "colab_type": "code",
        "colab": {
          "base_uri": "https://localhost:8080/",
          "height": 374
        },
        "outputId": "060c2409-ebe3-4bdf-c1c7-2e213de29228"
      },
      "source": [
        "model = Sequential()\n",
        "model.add(Dense(512, activation='relu', input_shape=(dimData,)))\n",
        "model.add(Dense(512, activation='relu'))\n",
        "model.add(Dense(512, activation='tanh'))\n",
        "model.add(Dense(512, activation='sigmoid'))\n",
        "model.add(Dense(10, activation='softmax'))\n",
        "model.compile(optimizer='rmsprop', loss='categorical_crossentropy', metrics=['accuracy'])\n",
        "history = model.fit(train_data, train_labels_one_hot, batch_size=256, epochs=10, verbose=1,\n",
        "                   validation_data=(test_data, test_labels_one_hot))"
      ],
      "execution_count": 155,
      "outputs": [
        {
          "output_type": "stream",
          "text": [
            "Train on 60000 samples, validate on 10000 samples\n",
            "Epoch 1/10\n",
            "60000/60000 [==============================] - 3s 47us/step - loss: 0.3308 - acc: 0.8956 - val_loss: 0.1504 - val_acc: 0.9547\n",
            "Epoch 2/10\n",
            "60000/60000 [==============================] - 1s 24us/step - loss: 0.1040 - acc: 0.9687 - val_loss: 0.1393 - val_acc: 0.9589\n",
            "Epoch 3/10\n",
            "60000/60000 [==============================] - 1s 23us/step - loss: 0.0678 - acc: 0.9798 - val_loss: 0.0801 - val_acc: 0.9765\n",
            "Epoch 4/10\n",
            "60000/60000 [==============================] - 1s 23us/step - loss: 0.0464 - acc: 0.9858 - val_loss: 0.0754 - val_acc: 0.9798\n",
            "Epoch 5/10\n",
            "60000/60000 [==============================] - 1s 24us/step - loss: 0.0355 - acc: 0.9895 - val_loss: 0.0915 - val_acc: 0.9777\n",
            "Epoch 6/10\n",
            "60000/60000 [==============================] - 1s 22us/step - loss: 0.0288 - acc: 0.9914 - val_loss: 0.1182 - val_acc: 0.9688\n",
            "Epoch 7/10\n",
            "60000/60000 [==============================] - 1s 23us/step - loss: 0.0230 - acc: 0.9932 - val_loss: 0.0793 - val_acc: 0.9820\n",
            "Epoch 8/10\n",
            "60000/60000 [==============================] - 1s 23us/step - loss: 0.0198 - acc: 0.9937 - val_loss: 0.0875 - val_acc: 0.9814\n",
            "Epoch 9/10\n",
            "60000/60000 [==============================] - 1s 23us/step - loss: 0.0164 - acc: 0.9949 - val_loss: 0.0818 - val_acc: 0.9817\n",
            "Epoch 10/10\n",
            "60000/60000 [==============================] - 1s 23us/step - loss: 0.0147 - acc: 0.9953 - val_loss: 0.1109 - val_acc: 0.9779\n"
          ],
          "name": "stdout"
        }
      ]
    },
    {
      "cell_type": "code",
      "metadata": {
        "id": "o_WecbitU-dc",
        "colab_type": "code",
        "colab": {
          "base_uri": "https://localhost:8080/",
          "height": 374
        },
        "outputId": "8ca01886-f72f-4951-ca43-9d4e2b0141bf"
      },
      "source": [
        "model = Sequential()\n",
        "model.add(Dense(512, activation='relu', input_shape=(dimData,)))\n",
        "model.add(Dense(512, activation='relu'))\n",
        "model.add(Dense(10, activation='softmax'))\n",
        "model.compile(optimizer='rmsprop', loss='categorical_crossentropy', metrics=['accuracy'])\n",
        "history = model.fit(train_data1, train_labels_one_hot, batch_size=256, epochs=10, verbose=1,\n",
        "                   validation_data=(test_data1, test_labels_one_hot))"
      ],
      "execution_count": 153,
      "outputs": [
        {
          "output_type": "stream",
          "text": [
            "Train on 60000 samples, validate on 10000 samples\n",
            "Epoch 1/10\n",
            "60000/60000 [==============================] - 2s 40us/step - loss: 14.0666 - acc: 0.1272 - val_loss: 13.0456 - val_acc: 0.1905\n",
            "Epoch 2/10\n",
            "60000/60000 [==============================] - 1s 19us/step - loss: 13.0109 - acc: 0.1926 - val_loss: 11.6452 - val_acc: 0.2774\n",
            "Epoch 3/10\n",
            "60000/60000 [==============================] - 1s 19us/step - loss: 11.7700 - acc: 0.2695 - val_loss: 11.5859 - val_acc: 0.2811\n",
            "Epoch 4/10\n",
            "60000/60000 [==============================] - 1s 19us/step - loss: 11.1825 - acc: 0.3059 - val_loss: 10.3932 - val_acc: 0.3550\n",
            "Epoch 5/10\n",
            "60000/60000 [==============================] - 1s 19us/step - loss: 10.0430 - acc: 0.3767 - val_loss: 10.3139 - val_acc: 0.3599\n",
            "Epoch 6/10\n",
            "60000/60000 [==============================] - 1s 19us/step - loss: 10.0641 - acc: 0.3754 - val_loss: 10.3017 - val_acc: 0.3607\n",
            "Epoch 7/10\n",
            "60000/60000 [==============================] - 1s 19us/step - loss: 9.9949 - acc: 0.3798 - val_loss: 10.0046 - val_acc: 0.3792\n",
            "Epoch 8/10\n",
            "60000/60000 [==============================] - 1s 20us/step - loss: 10.0197 - acc: 0.3783 - val_loss: 10.3450 - val_acc: 0.3580\n",
            "Epoch 9/10\n",
            "60000/60000 [==============================] - 1s 20us/step - loss: 9.9837 - acc: 0.3805 - val_loss: 9.9669 - val_acc: 0.3816\n",
            "Epoch 10/10\n",
            "60000/60000 [==============================] - 1s 20us/step - loss: 9.9868 - acc: 0.3803 - val_loss: 10.0158 - val_acc: 0.3785\n"
          ],
          "name": "stdout"
        }
      ]
    },
    {
      "cell_type": "code",
      "metadata": {
        "id": "e3h3GoxOCgzn",
        "colab_type": "code",
        "colab": {
          "base_uri": "https://localhost:8080/",
          "height": 445
        },
        "outputId": "a6ecc435-fcf2-431f-bb5b-9e106ef33844"
      },
      "source": [
        "from keras.models import Model\n",
        "from keras.layers import Input\n",
        "i=Input(shape=(784,))\n",
        "x= Dense(512, activation='relu')(i)\n",
        "x= Dense(512, activation='relu')(x)\n",
        "\n",
        "x= Dense(10, activation='softmax')(x)\n",
        "p = Model(input=i,output=x)\n",
        "p.compile(optimizer='rmsprop', loss='categorical_crossentropy', metrics=['accuracy'])\n",
        "p.fit(train_data, train_labels_one_hot, batch_size=256, epochs=10, verbose=1,\n",
        "                   validation_data=(test_data, test_labels_one_hot))"
      ],
      "execution_count": 154,
      "outputs": [
        {
          "output_type": "stream",
          "text": [
            "/usr/local/lib/python3.6/dist-packages/ipykernel_launcher.py:8: UserWarning: Update your `Model` call to the Keras 2 API: `Model(inputs=Tensor(\"in..., outputs=Tensor(\"de...)`\n",
            "  \n"
          ],
          "name": "stderr"
        },
        {
          "output_type": "stream",
          "text": [
            "Train on 60000 samples, validate on 10000 samples\n",
            "Epoch 1/10\n",
            "60000/60000 [==============================] - 2s 40us/step - loss: 0.2745 - acc: 0.9154 - val_loss: 0.1391 - val_acc: 0.9577\n",
            "Epoch 2/10\n",
            "60000/60000 [==============================] - 1s 20us/step - loss: 0.0933 - acc: 0.9712 - val_loss: 0.0848 - val_acc: 0.9735\n",
            "Epoch 3/10\n",
            "60000/60000 [==============================] - 1s 20us/step - loss: 0.0582 - acc: 0.9820 - val_loss: 0.0695 - val_acc: 0.9803\n",
            "Epoch 4/10\n",
            "60000/60000 [==============================] - 1s 21us/step - loss: 0.0394 - acc: 0.9871 - val_loss: 0.0914 - val_acc: 0.9739\n",
            "Epoch 5/10\n",
            "60000/60000 [==============================] - 1s 20us/step - loss: 0.0291 - acc: 0.9910 - val_loss: 0.0774 - val_acc: 0.9779\n",
            "Epoch 6/10\n",
            "60000/60000 [==============================] - 1s 21us/step - loss: 0.0216 - acc: 0.9927 - val_loss: 0.0721 - val_acc: 0.9801\n",
            "Epoch 7/10\n",
            "60000/60000 [==============================] - 1s 21us/step - loss: 0.0163 - acc: 0.9947 - val_loss: 0.0919 - val_acc: 0.9765\n",
            "Epoch 8/10\n",
            "60000/60000 [==============================] - 1s 19us/step - loss: 0.0137 - acc: 0.9956 - val_loss: 0.0916 - val_acc: 0.9780\n",
            "Epoch 9/10\n",
            "60000/60000 [==============================] - 1s 21us/step - loss: 0.0114 - acc: 0.9965 - val_loss: 0.0804 - val_acc: 0.9822\n",
            "Epoch 10/10\n",
            "60000/60000 [==============================] - 1s 21us/step - loss: 0.0090 - acc: 0.9972 - val_loss: 0.1241 - val_acc: 0.9742\n"
          ],
          "name": "stdout"
        },
        {
          "output_type": "execute_result",
          "data": {
            "text/plain": [
              "<keras.callbacks.History at 0x7f3cd8f46a90>"
            ]
          },
          "metadata": {
            "tags": []
          },
          "execution_count": 154
        }
      ]
    },
    {
      "cell_type": "code",
      "metadata": {
        "id": "P0yWrE2JPrLX",
        "colab_type": "code",
        "colab": {}
      },
      "source": [
        ""
      ],
      "execution_count": 0,
      "outputs": []
    }
  ]
}